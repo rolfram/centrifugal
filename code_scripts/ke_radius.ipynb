{
 "cells": [
  {
   "cell_type": "code",
   "execution_count": null,
   "metadata": {
    "collapsed": true
   },
   "outputs": [],
   "source": [
    "import matplotlib.pyplot as plt\n",
    "import numpy\n",
    "from rayleigh_diagnostics import Shell_Avgs, build_file_list\n",
    "\n",
    "dir_list = ['./ek1em1/','./ek1em2/','./ek1em3/','./ek1em4/','./ek1em5/']\n",
    "ek_name = [r'$E = 10^{-1}$',r'$E = 10^{-2}$',r'$E = 10^{-3}$',r'$E = 10^{-4}$',r'$E = 10^{-5}$']"
   ]
  },
  {
   "cell_type": "code",
   "execution_count": null,
   "metadata": {},
   "outputs": [],
   "source": [
    "sizetuple = (10,5)\n",
    "fig, ax = plt.subplots(figsize=sizetuple)\n",
    "\n",
    "for k in dir_list:\n",
    "    # Build a list of all files ranging from iteration 0 million to 1 million\n",
    "    files = build_file_list(0,1000000,path=k+'Shell_Avgs')\n",
    "    a = Shell_Avgs(filename=files[0], path='')\n",
    "    # help(a)\n",
    "\n",
    "    nfiles = len(files)\n",
    "\n",
    "    nr = a.nr\n",
    "    nq = a.nq\n",
    "    nmom = 4\n",
    "    niter = a.niter\n",
    "    radius = a.radius\n",
    "    savg=numpy.zeros((nr,nmom,nq),dtype='float64')\n",
    "    for i in range(niter):\n",
    "        savg[:,:,:] += a.vals[:,:,:,i]\n",
    "    savg = savg*(1.0/niter)\n",
    "\n",
    "    lut = a.lut\n",
    "    vr = lut[1]        # Radial Velocity\n",
    "    vtheta = lut[2]    # Theta Velocity\n",
    "    vphi = lut[3]      # Phi Velocity\n",
    "    thermal = lut[501] # Temperature\n",
    "\n",
    "\n",
    "    eflux = lut[1440]  # Convective Heat Flux (radial)\n",
    "    cflux = lut[1470]  # Conductive Heat Flux (radial)\n",
    "\n",
    "    ke = lut[401]\n",
    "    for h in range(5):\n",
    "        if k is dir_list[h]:\n",
    "            numbering = h\n",
    "        else:\n",
    "            pass\n",
    "\n",
    "    ax.plot(radius,savg[:,0,ke],label=ek_name[numbering],linewidth=2)\n",
    "    ax.legend(shadow=True,loc='best',fontsize=12)\n",
    "    ax.set_xlabel('Radius',fontsize=14)\n",
    "    ax.set_ylabel('KE',fontsize=14)\n",
    "    ax.set_yscale('log')\n",
    "    ax.set_title('KE vs Radius',fontsize=14)\n",
    "    ax.set_ylim(1e-7,1e7)\n",
    "\n",
    "\n",
    "plt.tight_layout()\n",
    "plt.tight_layout()\n",
    "savefile = './plots/ke_radius_all.pdf'\n",
    "#print('Saving figure to: ', savefile)\n",
    "plt.savefig(savefile)\n",
    "plt.show()"
   ]
  },
  {
   "cell_type": "code",
   "execution_count": null,
   "metadata": {
    "collapsed": true
   },
   "outputs": [],
   "source": []
  }
 ],
 "metadata": {
  "kernelspec": {
   "display_name": "Python 3",
   "language": "python",
   "name": "python3"
  },
  "language_info": {
   "codemirror_mode": {
    "name": "ipython",
    "version": 3
   },
   "file_extension": ".py",
   "mimetype": "text/x-python",
   "name": "python",
   "nbconvert_exporter": "python",
   "pygments_lexer": "ipython3",
   "version": "3.5.1"
  }
 },
 "nbformat": 4,
 "nbformat_minor": 2
}
