{
 "cells": [
  {
   "cell_type": "code",
   "execution_count": null,
   "metadata": {
    "collapsed": true
   },
   "outputs": [],
   "source": [
    "import matplotlib.pyplot as plt\n",
    "import numpy\n",
    "from rayleigh_diagnostics import G_Avgs, build_file_list, Compile_GlobalAverages\n",
    "\n",
    "dir_list = ['./ek1em1/','./ek1em2/','./ek1em3/','./ek1em4/','./ek1em5/']"
   ]
  },
  {
   "cell_type": "code",
   "execution_count": null,
   "metadata": {},
   "outputs": [],
   "source": [
    "imax=20000000\n",
    "\n",
    "for i in dir_list:\n",
    "    print(i)\n",
    "    files = build_file_list(0,imax,i+'G_Avgs')\n",
    "    Compile_GlobalAverages(files,i+'gcomp.dat')"
   ]
  },
  {
   "cell_type": "code",
   "execution_count": null,
   "metadata": {},
   "outputs": [],
   "source": [
    "%matplotlib inline\n",
    "fig, ax = plt.subplots()\n",
    "for k in dir_list:\n",
    "    ga = G_Avgs('gcomp.dat',path=k)\n",
    "    ke = ga.lut[401]\n",
    "    rke = ga.lut[402]\n",
    "    tke = ga.lut[403]\n",
    "    pke = ga.lut[404]\n",
    "    drke = ga.lut[408]\n",
    "    print(k)\n",
    "    print(ga.vals[-1,pke])\n",
    "\n",
    "    ax.plot(ga.time[:], ga.vals[:,ke],label=k)\n",
    "\n",
    "# ax.set_xlim(0,1)\n",
    "ax.legend(loc='best', shadow=True)\n",
    "ax.set_yscale('log')\n",
    "plt.tight_layout()\n",
    "plt.show()"
   ]
  },
  {
   "cell_type": "code",
   "execution_count": null,
   "metadata": {
    "collapsed": true
   },
   "outputs": [],
   "source": []
  }
 ],
 "metadata": {
  "kernelspec": {
   "display_name": "Python 3",
   "language": "python",
   "name": "python3"
  },
  "language_info": {
   "codemirror_mode": {
    "name": "ipython",
    "version": 3
   },
   "file_extension": ".py",
   "mimetype": "text/x-python",
   "name": "python",
   "nbconvert_exporter": "python",
   "pygments_lexer": "ipython3",
   "version": "3.5.1"
  }
 },
 "nbformat": 4,
 "nbformat_minor": 2
}
