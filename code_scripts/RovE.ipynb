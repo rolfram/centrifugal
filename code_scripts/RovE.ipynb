{
 "cells": [
  {
   "cell_type": "code",
   "execution_count": 1,
   "metadata": {
    "collapsed": true
   },
   "outputs": [],
   "source": [
    "import numpy\n",
    "import glob\n",
    "import matplotlib.pyplot as plt\n",
    "from rayleigh_diagnostics import G_Avgs, build_file_list, Compile_GlobalAverages\n",
    "%matplotlib inline\n",
    "\n",
    "ek_dir = ['./ek1em1/','./ek1em2/','./ek1em3/']\n",
    "E = [1e-1,1e-2,1e-3]"
   ]
  },
  {
   "cell_type": "code",
   "execution_count": 2,
   "metadata": {
    "collapsed": true
   },
   "outputs": [],
   "source": [
    "def rossby(ke,ekman):\n",
    "    # rossby = numpy.sqrt(2*ke)/ekman\n",
    "    rossby = numpy.sqrt(2*ke)*ekman\n",
    "    return rossby"
   ]
  },
  {
   "cell_type": "code",
   "execution_count": 4,
   "metadata": {},
   "outputs": [
    {
     "name": "stdout",
     "output_type": "stream",
     "text": [
      "./ek1em1/\n",
      "./ek1em2/\n",
      "./ek1em3/\n"
     ]
    }
   ],
   "source": [
    "imax=20000000\n",
    "\n",
    "for i in range(len(ek_dir)):\n",
    "    print(ek_dir[i])\n",
    "    ra = sorted(glob.glob(ek_dir[i] + 'ra*/'))\n",
    "    for k in range(len(ra)):\n",
    "        if './ek1em3/ra1e6_movie/' == ra[k]:\n",
    "            pass\n",
    "        elif './ek1em3/ra1e6_sphere/' == ra[k]:\n",
    "            pass\n",
    "        else:\n",
    "            files = build_file_list(0,imax,ra[k] + 'G_Avgs')\n",
    "            Compile_GlobalAverages(files,ra[k] + 'gcomp.dat')"
   ]
  },
  {
   "cell_type": "code",
   "execution_count": 7,
   "metadata": {},
   "outputs": [
    {
     "name": "stdout",
     "output_type": "stream",
     "text": [
      "['./ek1em1/ra1e3/', './ek1em1/ra1e4/', './ek1em1/ra1e5/', './ek1em1/ra1e6/', './ek1em1/ra2e4/', './ek1em1/ra3e4/', './ek1em1/ra4e4/', './ek1em1/ra5e4/']\n"
     ]
    }
   ],
   "source": [
    "import glob\n",
    "f = sorted(glob.glob(ek_dir[0] + 'ra*/'))\n",
    "print(f)"
   ]
  },
  {
   "cell_type": "code",
   "execution_count": 5,
   "metadata": {},
   "outputs": [
    {
     "name": "stdout",
     "output_type": "stream",
     "text": [
      "./ek1em1/\n",
      "./ek1em2/\n",
      "./ek1em3/\n"
     ]
    }
   ],
   "source": [
    "ek_one = []\n",
    "ek_two = []\n",
    "ek_three = []\n",
    "\n",
    "for i in range(len(ek_dir)):\n",
    "    print(ek_dir[i])\n",
    "    ra = sorted(glob.glob(ek_dir[i] + 'ra*/'))\n",
    "    for k in range(len(ra)):\n",
    "        if './ek1em3/ra1e6_movie/' == ra[k]:\n",
    "            pass\n",
    "        elif './ek1em3/ra1e6_sphere/' == ra[k]:\n",
    "            pass\n",
    "        else:\n",
    "            ga = G_Avgs('gcomp.dat',path=ra[k])\n",
    "            ke = ga.lut[401]\n",
    "            if i == 0:\n",
    "                ek_one.append(ga.vals[-1,ke])\n",
    "            elif i == 1:\n",
    "                ek_two.append(ga.vals[-1,ke])\n",
    "            else:\n",
    "                ek_three.append(ga.vals[-1,ke])"
   ]
  },
  {
   "cell_type": "code",
   "execution_count": 10,
   "metadata": {},
   "outputs": [
    {
     "data": {
      "image/png": "[encoded data removed]",
      "text/plain": [
       "<Figure size 432x288 with 1 Axes>"
      ]
     },
     "metadata": {},
     "output_type": "display_data"
    }
   ],
   "source": [
    "fig, ax = plt.subplots()\n",
    "onetemp = numpy.ones(len(E))\n",
    "Elin = numpy.linspace(1e-3,1e-1,3)\n",
    "\n",
    "for i in range(len(ek_dir)):\n",
    "    ra = sorted(glob.glob(ek_dir[i] + 'ra*/'))\n",
    "    if i == 0:\n",
    "        for k in range(len(ek_one)):\n",
    "            rotemp = rossby(ek_one[k],E[0])\n",
    "            if './ek1em1/ra1e3/' == ra[k]:\n",
    "                ax.plot(1/E[0],rotemp,marker='*',color='orange',label='ra1e3')\n",
    "            elif './ek1em1/ra1e4/' == ra[k]:\n",
    "                ax.plot(1/E[0],rotemp,marker='v',color='magenta',label='ra1e4')\n",
    "            elif './ek1em1/ra1e5/' == ra[k]:\n",
    "                ax.plot(1/E[0],rotemp,marker='s',color='purple',label='ra1e5')\n",
    "            elif './ek1em1/ra1e6/' == ra[k]:\n",
    "                ax.plot(1/E[0],rotemp,marker='D',color='olive',label='ra1e6')\n",
    "            else:\n",
    "                ax.plot(1/E[0],rotemp,marker='o',color='blue')\n",
    "    if i == 1:\n",
    "        for k in range(len(ek_two)):\n",
    "            rotemp = rossby(ek_two[k],E[1])\n",
    "            if './ek1em2/ra1e3/' == ra[k]:\n",
    "                ax.plot(1/E[1],rotemp,marker='*',color='orange')\n",
    "            elif './ek1em2/ra1e4/' == ra[k]:\n",
    "                ax.plot(1/E[1],rotemp,marker='v',color='magenta')\n",
    "            elif './ek1em2/ra1e5/' == ra[k]:\n",
    "                ax.plot(1/E[1],rotemp,marker='s',color='purple')\n",
    "            elif './ek1em2/ra1e6/' == ra[k]:\n",
    "                ax.plot(1/E[1],rotemp,marker='D',color='olive')\n",
    "            else:\n",
    "                ax.plot(1/E[1],rotemp,marker='o',color='red')\n",
    "    if i == 2:\n",
    "        for k in range(len(ek_three)):\n",
    "            rotemp = rossby(ek_three[k],E[2])\n",
    "            if './ek1em3/ra1e3/' == ra[k]:\n",
    "                ax.plot(1/E[2],rotemp,marker='*',color='orange')\n",
    "            elif './ek1em3/ra1e4/' == ra[k]:\n",
    "                ax.plot(1/E[2],rotemp,marker='v',color='magenta')\n",
    "            elif './ek1em3/ra1e5/' == ra[k]:\n",
    "                ax.plot(1/E[2],rotemp,marker='s',color='purple')\n",
    "            elif './ek1em3/ra1e6/' == ra[k]:\n",
    "                ax.plot(1/E[2],rotemp,marker='D',color='olive')\n",
    "            else:\n",
    "                ax.plot(1/E[2],rotemp,marker='o',color='green')\n",
    "                \n",
    "ax.plot(1/Elin,onetemp,'--',color='black')\n",
    "ax.legend(loc='best',shadow=True)\n",
    "ax.set_xscale('log')\n",
    "# ax.set_yscale('log')\n",
    "ax.set_ylabel('Ro',fontsize=16)\n",
    "ax.set_xlabel('1/E',fontsize=16)\n",
    "ax.set_title('Aspect Ratio = 0.5',fontsize=16)\n",
    "ax.set_ylim(-1,18)\n",
    "plt.tight_layout()\n",
    "plt.show()"
   ]
  },
  {
   "cell_type": "code",
   "execution_count": null,
   "metadata": {
    "collapsed": true
   },
   "outputs": [],
   "source": []
  }
 ],
 "metadata": {
  "kernelspec": {
   "display_name": "Python 3",
   "language": "python",
   "name": "python3"
  },
  "language_info": {
   "codemirror_mode": {
    "name": "ipython",
    "version": 3
   },
   "file_extension": ".py",
   "mimetype": "text/x-python",
   "name": "python",
   "nbconvert_exporter": "python",
   "pygments_lexer": "ipython3",
   "version": "3.5.1"
  }
 },
 "nbformat": 4,
 "nbformat_minor": 2
}
