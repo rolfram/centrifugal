{
 "cells": [
  {
   "cell_type": "code",
   "execution_count": null,
   "metadata": {
    "collapsed": true
   },
   "outputs": [],
   "source": [
    "from rayleigh_diagnostics import Shell_Slices\n",
    "import numpy\n",
    "import matplotlib.pyplot as plt\n",
    "from matplotlib import ticker, font_manager\n",
    "%matplotlib inline\n",
    "\n",
    "dir_list = ['./ek1em1/Shell_Slices/','./ek1em2/Shell_Slices/','./ek1em3/Shell_Slices/']"
   ]
  },
  {
   "cell_type": "code",
   "execution_count": null,
   "metadata": {},
   "outputs": [],
   "source": [
    "istring = '00020000'\n",
    "ss = Shell_Slices(istring, path=dir_list[0])\n",
    "# help(ss)\n",
    "ntheta = ss.ntheta\n",
    "nphi = ss.nphi\n",
    "costheta = ss.costheta\n",
    "theta = numpy.arccos(costheta)\n",
    "\n",
    "tindex =0 # All example quantities were output with same cadence.  Grab second time-index from all.\n",
    "rindex = 0 # only output one radius\n",
    "sizetuple=(8,8)\n",
    "\n",
    "vr = ss.vals[:,:,rindex,ss.lut[1],tindex]\n",
    "fig, ax = plt.subplots(figsize=sizetuple)\n",
    "\n",
    "\n",
    "img = plt.imshow(numpy.transpose(vr), extent=[0,360,-90,90])\n",
    "ax.set_xlabel( 'Longitude')\n",
    "ax.set_ylabel( 'Latitude')\n",
    "ax.set_title(  'Radial Velocity')\n",
    "\n",
    "plt.tight_layout()\n",
    "plt.show()"
   ]
  },
  {
   "cell_type": "code",
   "execution_count": null,
   "metadata": {},
   "outputs": [],
   "source": [
    "istring = '00040000'\n",
    "ss = Shell_Slices(istring, path=dir_list[1])\n",
    "# help(ss)\n",
    "ntheta = ss.ntheta\n",
    "nphi = ss.nphi\n",
    "costheta = ss.costheta\n",
    "theta = numpy.arccos(costheta)\n",
    "\n",
    "tindex =0 # All example quantities were output with same cadence.  Grab second time-index from all.\n",
    "rindex = 0 # only output one radius\n",
    "sizetuple=(8,8)\n",
    "\n",
    "vr = ss.vals[:,:,rindex,ss.lut[1],tindex]\n",
    "fig, ax = plt.subplots(figsize=sizetuple)\n",
    "\n",
    "\n",
    "img = plt.imshow(numpy.transpose(vr), extent=[0,360,-90,90])\n",
    "ax.set_xlabel( 'Longitude')\n",
    "ax.set_ylabel( 'Latitude')\n",
    "ax.set_title(  'Radial Velocity')\n",
    "\n",
    "plt.tight_layout()\n",
    "plt.show()"
   ]
  },
  {
   "cell_type": "code",
   "execution_count": null,
   "metadata": {},
   "outputs": [],
   "source": [
    "istring = '00060000'\n",
    "ss = Shell_Slices(istring, path=dir_list[2])\n",
    "# help(ss)\n",
    "ntheta = ss.ntheta\n",
    "nphi = ss.nphi\n",
    "costheta = ss.costheta\n",
    "theta = numpy.arccos(costheta)\n",
    "\n",
    "tindex =0 # All example quantities were output with same cadence.  Grab second time-index from all.\n",
    "rindex = 0 # only output one radius\n",
    "sizetuple=(8,8)\n",
    "\n",
    "vr = ss.vals[:,:,rindex,ss.lut[1],tindex]\n",
    "fig, ax = plt.subplots(figsize=sizetuple)\n",
    "\n",
    "\n",
    "img = plt.imshow(numpy.transpose(vr), extent=[0,360,-90,90])\n",
    "ax.set_xlabel( 'Longitude')\n",
    "ax.set_ylabel( 'Latitude')\n",
    "ax.set_title(  'Radial Velocity')\n",
    "\n",
    "plt.tight_layout()\n",
    "plt.show()"
   ]
  },
  {
   "cell_type": "code",
   "execution_count": null,
   "metadata": {
    "collapsed": true
   },
   "outputs": [],
   "source": []
  }
 ],
 "metadata": {
  "kernelspec": {
   "display_name": "Python 3",
   "language": "python",
   "name": "python3"
  },
  "language_info": {
   "codemirror_mode": {
    "name": "ipython",
    "version": 3
   },
   "file_extension": ".py",
   "mimetype": "text/x-python",
   "name": "python",
   "nbconvert_exporter": "python",
   "pygments_lexer": "ipython3",
   "version": "3.5.1"
  }
 },
 "nbformat": 4,
 "nbformat_minor": 2
}
