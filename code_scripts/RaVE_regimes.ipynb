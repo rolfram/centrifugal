{
 "cells": [
  {
   "cell_type": "code",
   "execution_count": null,
   "metadata": {
    "collapsed": true
   },
   "outputs": [],
   "source": [
    "import numpy\n",
    "import matplotlib.pyplot as plt\n",
    "%matplotlib inline\n",
    "\n",
    "ra = [1,1e3,1e4,1e5,1e6,1e7]\n",
    "ek = [1e-1,1e-2,1e-3,1e-4]\n",
    "rgb = ['blue','red','green']\n",
    "ns = 'black'\n",
    "ne = 'magenta'"
   ]
  },
  {
   "cell_type": "code",
   "execution_count": null,
   "metadata": {},
   "outputs": [],
   "source": [
    "fig, ax = plt.subplots()\n",
    "\n",
    "x = numpy.linspace(0,1e3,100)\n",
    "y = 2*x**2\n",
    "\n",
    "ax.plot(1/ek[0],ra[1],'o',color=rgb[0],label='Non-Convecting')\n",
    "ax.plot(1/ek[0],ra[2],'o',color=rgb[0])\n",
    "ax.plot(1/ek[0],2e4,'v',color=rgb[1])\n",
    "ax.plot(1/ek[0],3e4,'v',color=rgb[1],label='Rotation matters')\n",
    "ax.plot(1/ek[0],4e4,'D',color=rgb[2])\n",
    "ax.plot(1/ek[0],5e4,'D',color=rgb[2])\n",
    "ax.plot(1/ek[0],ra[3],'D',color=rgb[2],label='Effective non-rotating')\n",
    "ax.plot(1/ek[0],ra[4],'D',color=rgb[2])\n",
    "\n",
    "# ax.plot(1/ek[1],ra[0],'o',color=rgb[0])\n",
    "ax.plot(1/ek[1],ra[1],'o',color=rgb[0])\n",
    "ax.plot(1/ek[1],ra[2],'o',color=rgb[0])\n",
    "ax.plot(1/ek[1],2e4,'v',color=rgb[1])\n",
    "ax.plot(1/ek[1],5e4,'v',color=rgb[1])\n",
    "ax.plot(1/ek[1],ra[3],'v',color=rgb[1])\n",
    "ax.plot(1/ek[1],2e5,'v',color=rgb[1])\n",
    "ax.plot(1/ek[1],3e5,'D',color=rgb[2])\n",
    "ax.plot(1/ek[1],ra[4],'D',color=rgb[2])\n",
    "ax.plot(1/ek[1],ra[5],'s',color=ns)\n",
    "\n",
    "# ax.plot(1/ek[2],ra[0],'o',color=rgb[0])\n",
    "ax.plot(1/ek[2],ra[2],'o',color=rgb[0])\n",
    "ax.plot(1/ek[2],ra[3],'o',color=rgb[0])\n",
    "ax.plot(1/ek[2],2e5,'o',color=rgb[0])\n",
    "ax.plot(1/ek[2],3e5,'v',color=rgb[1])\n",
    "ax.plot(1/ek[2],5e5,'v',color=rgb[1])\n",
    "ax.plot(1/ek[2],ra[4],'v',color=rgb[1])\n",
    "ax.plot(1/ek[2],ra[5],'s',color=ns)\n",
    "\n",
    "# ax.plot(x,y,'--')\n",
    "\n",
    "ax.set_title('Aspect Ratio=0.5',fontsize=16)\n",
    "ax.set_ylabel('Ra',fontsize=16)\n",
    "ax.set_xlabel(r'$E^{-1}$',fontsize=16)\n",
    "ax.set_yscale('log')\n",
    "ax.set_xscale('log')\n",
    "ax.legend(loc='lower right', shadow=True)\n",
    "\n",
    "plt.tight_layout()\n",
    "plt.show()"
   ]
  },
  {
   "cell_type": "code",
   "execution_count": null,
   "metadata": {
    "collapsed": true
   },
   "outputs": [],
   "source": []
  }
 ],
 "metadata": {
  "kernelspec": {
   "display_name": "Python 3",
   "language": "python",
   "name": "python3"
  },
  "language_info": {
   "codemirror_mode": {
    "name": "ipython",
    "version": 3
   },
   "file_extension": ".py",
   "mimetype": "text/x-python",
   "name": "python",
   "nbconvert_exporter": "python",
   "pygments_lexer": "ipython3",
   "version": "3.5.1"
  }
 },
 "nbformat": 4,
 "nbformat_minor": 2
}
