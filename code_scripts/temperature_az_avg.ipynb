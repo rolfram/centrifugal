{
 "cells": [
  {
   "cell_type": "code",
   "execution_count": null,
   "metadata": {
    "collapsed": true
   },
   "outputs": [],
   "source": [
    "from rayleigh_diagnostics import AZ_Avgs, build_file_list, plot_azav, streamfunction\n",
    "import matplotlib.pyplot as plt\n",
    "import pylab\n",
    "import numpy\n",
    "import glob\n",
    "%matplotlib inline\n",
    "\n",
    "dir_list = ['./ek1em1/','./ek1em2/','./ek1em3/','./ek1em4/','./ek1em5/']\n",
    "\n",
    "ek_name = [r'$E = 10^{-1}$',r'$E = 10^{-2}$',r'$E = 10^{-3}$',r'$E = 10^{-4}$',r'$E = 10^{-5}$']"
   ]
  },
  {
   "cell_type": "code",
   "execution_count": null,
   "metadata": {},
   "outputs": [],
   "source": [
    "figdpi=300\n",
    "sizetuple=(5.5*3,3*3)\n",
    "\n",
    "tsize = 20     # title font size\n",
    "cbfsize = 10   # colorbar font size\n",
    "dir_size = len(dir_list)\n",
    "fig, ax = plt.subplots(ncols=dir_size,figsize=sizetuple,dpi=figdpi)\n",
    "plt.rcParams.update({'font.size': 14})\n",
    "\n",
    "for k in dir_list:\n",
    "    w = sorted(glob.glob(k + 'AZ_Avgs/*'))\n",
    "    files = [w[-1]]\n",
    "\n",
    "    az = AZ_Avgs(files[0],path='')\n",
    "    nfiles = len(files)\n",
    "    tcount=0\n",
    "    for i in range(nfiles):\n",
    "        az=AZ_Avgs(files[i],path='')\n",
    "\n",
    "        if (i == 0):\n",
    "            nr = az.nr\n",
    "            ntheta = az.ntheta\n",
    "            nq = az.nq\n",
    "            azavg=numpy.zeros((ntheta,nr,nq),dtype='float64')\n",
    "\n",
    "        for j in range(az.niter):\n",
    "            azavg[:,:,:] += az.vals[:,:,:,j]\n",
    "            tcount+=1\n",
    "    azavg = azavg*(1.0/tcount)\n",
    "\n",
    "    lut = az.lut\n",
    "    vr = azavg[:,:,lut[1]]\n",
    "    vtheta = azavg[:,:,lut[2]]\n",
    "    vphi = azavg[:,:,lut[3]]\n",
    "    rhovr = azavg[:,:,lut[201]]\n",
    "    rhovtheta = azavg[:,:,lut[202]]\n",
    "    temperature = azavg[:,:,lut[501]]\n",
    "    radius = az.radius\n",
    "    costheta = az.costheta\n",
    "    sintheta = az.sintheta\n",
    "\n",
    "    #Subtrace the ell=0 component from temperature at each radius\n",
    "    for i in range(nr):\n",
    "        temperature[:,i]=temperature[:,i] - numpy.mean(temperature[:,i])\n",
    "\n",
    "    #Convert v_phi to an Angular velocity\n",
    "    omega=numpy.zeros((ntheta,nr))\n",
    "    for i in range(nr):\n",
    "        omega[:,i]=vphi[:,i]/(radius[i]*sintheta[:])\n",
    "\n",
    "    psi = streamfunction(rhovr,rhovtheta,radius,costheta,order=0)\n",
    "    #contours of mass flux are overplotted on the streamfunction PSI\n",
    "    rhovm = numpy.sqrt(rhovr**2+rhovtheta**2)*numpy.sign(psi) \n",
    "    \n",
    "\n",
    "    #temperature\n",
    "    #ax1 = f1.add_subplot(1,3,1)\n",
    "    units = '(nondimensional)'\n",
    "    for h in range(5):\n",
    "        if k is dir_list[h]:\n",
    "            numbering = h\n",
    "        else:\n",
    "            pass\n",
    "    plot_azav(fig,ax[numbering],psi,radius,costheta,sintheta,mycmap='RdYlBu_r',boundsfactor = 2, \n",
    "          boundstype='rms', units=units, fontsize = cbfsize)\n",
    "    ax[numbering].set_title(ek_name[numbering],fontsize=tsize)\n",
    "\n",
    "plt.tight_layout()\n",
    "savefile = './plots/AZ_Avgs_massflux.pdf'\n",
    "#print('Saving figure to: ', savefile)\n",
    "plt.savefig(savefile, bbox_inches='tight')\n",
    "plt.show()\n"
   ]
  },
  {
   "cell_type": "code",
   "execution_count": null,
   "metadata": {},
   "outputs": [],
   "source": [
    "import glob\n",
    "\n",
    "for k in dir_list:\n",
    "    f = sorted(glob.glob(k+'AZ_Avgs/*'))\n",
    "\n",
    "print(f[-1])"
   ]
  },
  {
   "cell_type": "code",
   "execution_count": null,
   "metadata": {
    "collapsed": true
   },
   "outputs": [],
   "source": []
  }
 ],
 "metadata": {
  "kernelspec": {
   "display_name": "Python 3",
   "language": "python",
   "name": "python3"
  },
  "language_info": {
   "codemirror_mode": {
    "name": "ipython",
    "version": 3
   },
   "file_extension": ".py",
   "mimetype": "text/x-python",
   "name": "python",
   "nbconvert_exporter": "python",
   "pygments_lexer": "ipython3",
   "version": "3.5.1"
  }
 },
 "nbformat": 4,
 "nbformat_minor": 2
}
